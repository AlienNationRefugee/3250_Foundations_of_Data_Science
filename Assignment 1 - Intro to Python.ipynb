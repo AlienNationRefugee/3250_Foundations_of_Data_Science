{
 "cells": [
  {
   "cell_type": "markdown",
   "metadata": {},
   "source": [
    "## Assignment 1 - Intro to Python"
   ]
  },
  {
   "cell_type": "markdown",
   "metadata": {},
   "source": [
    "### Part 1 - Loops and Lists"
   ]
  },
  {
   "cell_type": "markdown",
   "metadata": {},
   "source": [
    "<b>1.1.</b> Write a for-loop which will read a list of any kind and print out each item in a list on a separate line. For example, if you start with the list of fruits:\n",
    "fruits = ['apples', 'oranges', 'pears', 'apricots'], \n",
    "the output of the code can be:<br>\n",
    "     <i>a fruit of type: apples</i><br>\n",
    "     <i>a fruit of type: oranges</i><br>\n",
    "     etc.\n",
    "     \n",
    "The code should work with a list of any length and any type of list, i.e. strings, integers, other lists.\n",
    "Test your code with at least 2 different types of lists."
   ]
  },
  {
   "cell_type": "code",
   "execution_count": 1,
   "metadata": {},
   "outputs": [
    {
     "name": "stdout",
     "output_type": "stream",
     "text": [
      "a fruit of type:  apples\n",
      "a fruit of type:  oranges\n",
      "a fruit of type:  pears\n",
      "a fruit of type:  apricots\n"
     ]
    }
   ],
   "source": [
    "# Type your code here\n",
    "fruits=['apples','oranges','pears','apricots']\n",
    "for fruit in fruits:\n",
    "    print(\"a fruit of type: \",fruit)\n",
    "    \n",
    "    \n",
    "\n"
   ]
  },
  {
   "cell_type": "markdown",
   "metadata": {},
   "source": [
    "<b>1.2.</b> Start with an empty list and generate a list of integers from 0 to 5, reverse the list and print it out. Explain how you reversed the list."
   ]
  },
  {
   "cell_type": "code",
   "execution_count": 20,
   "metadata": {},
   "outputs": [
    {
     "name": "stdout",
     "output_type": "stream",
     "text": [
      "[2, 2, 2, 0, 3, 3, 3, 2, 3, 4]\n",
      "[4, 3, 2, 3, 3, 3, 0, 2, 2, 2]\n",
      "[2, 2, 2, 0, 3, 3, 3, 2, 3, 4]\n",
      "[4, 3, 2, 3, 3, 3, 0, 2, 2, 2]\n"
     ]
    }
   ],
   "source": [
    "# Write your code here\n",
    "# Hint: there are multiple ways to create a list of integers. If you are to create it by starting with an empty list\n",
    "# and adding one integer to a list at a time, you can use function append().\n",
    "from random import randint\n",
    "\n",
    "class flipflop:\n",
    "\n",
    "    def __init__(self, items):\n",
    "        self.items = items    # creates a new empty item list for each instance\n",
    "\n",
    "    def flip_items(self):      # reverse the item list for each instance\n",
    "        self.lis2 = []\n",
    "        for item in self.items:\n",
    "            self.lis2.insert(0,item)\n",
    "        self.items=self.lis2\n",
    "\n",
    "intlist=flipflop([])\n",
    "\n",
    "for count in range(10):\n",
    "    intlist.items.append(random.randint(0,5))\n",
    "\n",
    "print(intlist.items)\n",
    "intlist.flip_items()\n",
    "print(intlist.items)  \n",
    "intlist.flip_items()\n",
    "print(intlist.items)  \n",
    "intlist.flip_items()\n",
    "print(intlist.items)  \n",
    "    "
   ]
  },
  {
   "cell_type": "markdown",
   "metadata": {},
   "source": [
    "### Part 2 - Dictionaries"
   ]
  },
  {
   "cell_type": "markdown",
   "metadata": {},
   "source": [
    "Create two dictionaries, <i><b>provinces</b></i> and <i><b>capitals</b></i>. \n",
    "\n",
    "Dictionary <i><b>provinces</b></i> will use province names as a key and province abbreviation as a value. \n",
    "Dictionary <i><b>capitals</b></i> will use province abbreviation as a key and a capital name as a value.\n",
    "\n",
    "Print out all combinations of the province names and the corresponding capitals. An example of the output:<br>\n",
    "<i>The capital of Alberta is Edmonton </i><br>\n",
    "<i>The capital of British Columbia is Victoria</i><br>\n",
    "\n",
    "Add 2-3 provinces and corresponding capitals to your dictionaries. Print out the resulting list of province/capital combinations.\n"
   ]
  },
  {
   "cell_type": "code",
   "execution_count": 21,
   "metadata": {},
   "outputs": [
    {
     "name": "stdout",
     "output_type": "stream",
     "text": [
      "{'Alberta': 'AB', 'British Colombia': 'BC', 'Manitoba': 'MB'}\n",
      "{'AB': 'Edmonton', 'BC': 'Victoria', 'MB': 'Winnipeg'}\n",
      "The capital of Alberta is Edmonton\n",
      "The capital of Alberta is Victoria\n",
      "The capital of Alberta is Winnipeg\n",
      "The capital of British Colombia is Edmonton\n",
      "The capital of British Colombia is Victoria\n",
      "The capital of British Colombia is Winnipeg\n",
      "The capital of Manitoba is Edmonton\n",
      "The capital of Manitoba is Victoria\n",
      "The capital of Manitoba is Winnipeg\n"
     ]
    }
   ],
   "source": [
    "# Write your code here\n",
    "provinces = {\"Alberta\" : \"AB\", \"British Colombia\" : \"BC\" , \"Manitoba\":\"MB\"}\n",
    "capitals = {\"AB\" : \"Edmonton\", \"BC\" : \"Victoria\", \"MB\":\"Winnipeg\"}\n",
    "print(provinces)\n",
    "print(capitals)\n",
    "province=\"\"\n",
    "capital=\"\"\n",
    "for province,abbr1 in provinces.items():\n",
    "    for abbr2,city in capitals.items():\n",
    "        print(\"The capital of\",province,\"is\",city)\n"
   ]
  },
  {
   "cell_type": "code",
   "execution_count": 25,
   "metadata": {},
   "outputs": [
    {
     "name": "stdout",
     "output_type": "stream",
     "text": [
      "{'Alberta': 'AB', 'British Colombia': 'BC', 'Manitoba': 'MB', 'Ontario': 'ON', 'Quebec': 'QB', 'Nova Scotia': 'NS'}\n",
      "{'AB': 'Edmonton', 'BC': 'Victoria', 'MB': 'Winnipeg', 'ON': 'Toronto', 'QB': 'Québec City', 'NS': 'Halifax'}\n"
     ]
    }
   ],
   "source": [
    "# Adding provinces and capitals to the dictionaries\n",
    "provinces[\"Ontario\"]=\"ON\"\n",
    "provinces[\"Quebec\"]=\"QB\"\n",
    "provinces[\"Nova Scotia\"]=\"NS\"\n",
    "capitals[\"ON\"]=\"Toronto\"\n",
    "capitals[\"QB\"]=\"Québec City\"\n",
    "capitals[\"NS\"]=\"Halifax\"\n",
    "print(provinces)\n",
    "print(capitals)\n"
   ]
  },
  {
   "cell_type": "markdown",
   "metadata": {},
   "source": [
    "### Part 3 - Greatest Common Divisor (GCD)"
   ]
  },
  {
   "cell_type": "markdown",
   "metadata": {},
   "source": [
    "The Greatest Common Divisor (GCD) of <i>a</i> and <i>b</i> is the largest number that divides both of them with no remainder. You can read about GCD here: https://en.wikipedia.org/wiki/Greatest_common_divisor\n",
    "\n",
    "Write a function called <i><b>my_gcd()</b></i> that takes parameters <i>a</i> and <i>b</i> and returns their greatest common divisor.\n",
    "\n",
    "Create your own implementation of the alorithm and test your code by comparing the output of your function to  Python's gcd() function from <i>math</i> package.\n",
    "\n",
    "Test the code with the following inputs: (39, 91), (20, 30) and (40,40). Explain the logic of your function.\n",
    "\n",
    "Hint: You might want to review Think Python book, chapters 5 and 6, sections that talk about recursive functions."
   ]
  },
  {
   "cell_type": "markdown",
   "metadata": {},
   "source": [
    "I used Euclid's algorithm from Wikipedia below:\n",
    "\n",
    "gcd(a,0)=a\n",
    "gcd(a,b)=gcd(b,a mod b)\n",
    "\n",
    "If the arguments are both greater than zero then the algorithm can be written in more elementary terms as follows:\n",
    "\n",
    "gcd(a,a)=a\n",
    "gcd(a,b)=gcd(a-b,b), if a > b\n",
    "gcd(a,b)=gcd(a,b-a), if b > a"
   ]
  },
  {
   "cell_type": "code",
   "execution_count": 31,
   "metadata": {},
   "outputs": [],
   "source": [
    "# Write your code here\n",
    "def my_gcd(a,b):\n",
    "    if a==b:\n",
    "        return a\n",
    "    elif a>b:\n",
    "        return my_gcd(a-b,b)\n",
    "    elif b>a:\n",
    "        return my_gcd(a,b-a)"
   ]
  },
  {
   "cell_type": "code",
   "execution_count": 32,
   "metadata": {},
   "outputs": [
    {
     "data": {
      "text/plain": [
       "True"
      ]
     },
     "execution_count": 32,
     "metadata": {},
     "output_type": "execute_result"
    }
   ],
   "source": [
    "# Test your code by comparing to the Python built-in function:\n",
    "from math import gcd\n",
    "gcd(39,91)==my_gcd(39,91)"
   ]
  },
  {
   "cell_type": "code",
   "execution_count": 33,
   "metadata": {},
   "outputs": [
    {
     "data": {
      "text/plain": [
       "True"
      ]
     },
     "execution_count": 33,
     "metadata": {},
     "output_type": "execute_result"
    }
   ],
   "source": [
    "gcd(20,30)==my_gcd(20,30)"
   ]
  },
  {
   "cell_type": "code",
   "execution_count": 34,
   "metadata": {},
   "outputs": [
    {
     "data": {
      "text/plain": [
       "True"
      ]
     },
     "execution_count": 34,
     "metadata": {},
     "output_type": "execute_result"
    }
   ],
   "source": [
    "gcd(40,40)==my_gcd(40,40)"
   ]
  }
 ],
 "metadata": {
  "kernelspec": {
   "display_name": "Python 3",
   "language": "python",
   "name": "python3"
  },
  "language_info": {
   "codemirror_mode": {
    "name": "ipython",
    "version": 3
   },
   "file_extension": ".py",
   "mimetype": "text/x-python",
   "name": "python",
   "nbconvert_exporter": "python",
   "pygments_lexer": "ipython3",
   "version": "3.6.4"
  }
 },
 "nbformat": 4,
 "nbformat_minor": 2
}
